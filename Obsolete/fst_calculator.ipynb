{
 "cells": [
  {
   "cell_type": "code",
   "execution_count": 2,
   "metadata": {},
   "outputs": [],
   "source": [
    "# 1. Read the ref-dist-mat into numpy for array\n",
    "# 2. Replace array names with annotations\n",
    "# 3. Double for loop to calculate F1 and F2\n",
    "# 4. Use F measuremnts to calculated M and FST measures"
   ]
  },
  {
   "cell_type": "code",
   "execution_count": 11,
   "metadata": {},
   "outputs": [],
   "source": [
    "import numpy"
   ]
  },
  {
   "cell_type": "code",
   "execution_count": 4,
   "metadata": {},
   "outputs": [],
   "source": [
    "dist_mat = numpy.genfromtxt(\"/home/echarvel/Desktop/calab_data/hymenoptera/test_matrix.txt\", dtype=\"str\")\n",
    "annots = numpy.genfromtxt(\"/home/echarvel/Desktop/calab_data/hymenoptera/test_annots.txt\", dtype=\"str\")\n",
    "\n",
    "for line in annots:\n",
    "    x=numpy.where(dist_mat == line[0])\n",
    "    #print(x)\n",
    "    for index in x: \n",
    "        #print(index)\n",
    "        try:\n",
    "            dist_mat[index[0]][index[1]] = line[1]\n",
    "        except: pass"
   ]
  },
  {
   "cell_type": "code",
   "execution_count": 19,
   "metadata": {},
   "outputs": [
    {
     "name": "stdout",
     "output_type": "stream",
     "text": [
      "{'BOAR1': {'BOAR1': [0.01, 0.1], 'PIG2': [0.15, 0.1, 0.8, 0.9]}, 'PIG2': {'BOAR1': [0.15, 0.8, 0.1, 0.9], 'PIG2': [0.02, 0.02]}}\n"
     ]
    }
   ],
   "source": [
    "dist_dict = dict()\n",
    "\n",
    "for num1 in range(1, len(dist_mat[0])):\n",
    "    for num2 in range(1, len(dist_mat[0])):\n",
    "        if num1 != num2: \n",
    "            name1=dist_mat[0][num1]\n",
    "            name2=dist_mat[0][num2]\n",
    "            if name1 not in dist_dict:\n",
    "                dist_dict[name1] = dict()\n",
    "\n",
    "            if name2 not in dist_dict[name1]:\n",
    "                dist_dict[name1][name2] = [float(dist_mat[num1, num2])]\n",
    "            else: \n",
    "                dist_dict[name1][name2].append(float(dist_mat[num1, num2]))\n",
    "\n",
    "print(dist_dict)"
   ]
  },
  {
   "cell_type": "code",
   "execution_count": 27,
   "metadata": {},
   "outputs": [
    {
     "name": "stdout",
     "output_type": "stream",
     "text": [
      "0.11282051282051281 0.041025641025641026 0.5\n",
      "0.041025641025641026 0.11282051282051281 0.5\n"
     ]
    }
   ],
   "source": [
    "for key1 in dist_dict:\n",
    "    distance_list1 = dist_dict[key1][key1]\n",
    "    within = (sum(distance_list1)/len(distance_list1))\n",
    "\n",
    "    for key2 in dist_dict[key1]:\n",
    "        if key1 == key2:\n",
    "            pass\n",
    "        else:\n",
    "            distance_list2 = dist_dict[key1][key2]\n",
    "            across = (sum(distance_list2)/len(distance_list2))\n",
    "            F1 = within/across\n",
    "\n",
    "            distance_list2 = dist_dict[key2][key1]\n",
    "            distance_list3 = dist_dict[key2][key2]\n",
    "\n",
    "            within2 = (sum(distance_list3)/len(distance_list3))\n",
    "            across = (sum(distance_list2)/len(distance_list2))\n",
    "            F2 = within2/across\n",
    "\n",
    "            if len(distance_list1) <= len(distance_list2):\n",
    "                M=len(distance_list1)/len(distance_list2)\n",
    "            else:\n",
    "                M=len(distance_list2)/len(distance_list1)\n",
    "\n",
    "            print(F1, F2, M)\n",
    "\n",
    "            Theta = within\n",
    "            WC_fst = ()\n",
    "            WH_fst= ()\n",
    "            Nei_fst = ()\n",
    "            Hud_fst = ()"
   ]
  }
 ],
 "metadata": {
  "kernelspec": {
   "display_name": "data_science",
   "language": "python",
   "name": "python3"
  },
  "language_info": {
   "codemirror_mode": {
    "name": "ipython",
    "version": 3
   },
   "file_extension": ".py",
   "mimetype": "text/x-python",
   "name": "python",
   "nbconvert_exporter": "python",
   "pygments_lexer": "ipython3",
   "version": "3.11.4"
  },
  "orig_nbformat": 4
 },
 "nbformat": 4,
 "nbformat_minor": 2
}
